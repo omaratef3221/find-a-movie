{
 "cells": [
  {
   "cell_type": "code",
   "execution_count": 2,
   "id": "70222c2c",
   "metadata": {},
   "outputs": [
    {
     "name": "stdout",
     "output_type": "stream",
     "text": [
      "Requirement already satisfied: opendatasets in /Users/omaratef/miniconda/lib/python3.10/site-packages (0.1.22)\n",
      "\u001b[31mERROR: Could not find a version that satisfies the requirement as (from versions: none)\u001b[0m\u001b[31m\n",
      "\u001b[0m\u001b[31mERROR: No matching distribution found for as\u001b[0m\u001b[31m\n",
      "\u001b[0m\n",
      "\u001b[1m[\u001b[0m\u001b[34;49mnotice\u001b[0m\u001b[1;39;49m]\u001b[0m\u001b[39;49m A new release of pip is available: \u001b[0m\u001b[31;49m23.3.1\u001b[0m\u001b[39;49m -> \u001b[0m\u001b[32;49m24.0\u001b[0m\n",
      "\u001b[1m[\u001b[0m\u001b[34;49mnotice\u001b[0m\u001b[1;39;49m]\u001b[0m\u001b[39;49m To update, run: \u001b[0m\u001b[32;49mpip install --upgrade pip\u001b[0m\n",
      "Please provide your Kaggle credentials to download this dataset. Learn more: http://bit.ly/kaggle-creds\n",
      "Your Kaggle username: omaratef3221\n",
      "Your Kaggle Key: ········\n",
      "Downloading netflix-tv-shows-and-movies.zip to ./netflix-tv-shows-and-movies\n"
     ]
    },
    {
     "name": "stderr",
     "output_type": "stream",
     "text": [
      "100%|██████████████████████████████████████| 1.17M/1.17M [00:00<00:00, 1.27MB/s]"
     ]
    },
    {
     "name": "stdout",
     "output_type": "stream",
     "text": [
      "\n"
     ]
    },
    {
     "name": "stderr",
     "output_type": "stream",
     "text": [
      "\n"
     ]
    }
   ],
   "source": [
    "!pip install opendatasets as od\n",
    "import opendatasets as od\n",
    "od.download(\"https://www.kaggle.com/datasets/senapatirajesh/netflix-tv-shows-and-movies\")"
   ]
  },
  {
   "cell_type": "code",
   "execution_count": 27,
   "id": "3e476dc4",
   "metadata": {},
   "outputs": [],
   "source": [
    "import pandas as pd\n",
    "from langchain.document_loaders.csv_loader import CSVLoader\n",
    "from langchain_community.vectorstores import Chroma\n",
    "from langchain_community.document_loaders import DataFrameLoader\n",
    "from langchain.embeddings import HuggingFaceEmbeddings\n",
    "from langchain.text_splitter import CharacterTextSplitter\n",
    "import dotenv"
   ]
  },
  {
   "cell_type": "code",
   "execution_count": 12,
   "id": "03ba03a1",
   "metadata": {},
   "outputs": [
    {
     "name": "stdout",
     "output_type": "stream",
     "text": [
      "title          0\n",
      "description    0\n",
      "dtype: int64\n",
      "\n",
      "(7787, 2)\n"
     ]
    }
   ],
   "source": [
    "data_df = pd.read_csv(\"netflix-tv-shows-and-movies/NetFlix.csv\")[[\"title\",\"description\"]]\n",
    "print(data_df.isna().sum())\n",
    "print()\n",
    "print(data_df.shape)"
   ]
  },
  {
   "cell_type": "code",
   "execution_count": 25,
   "id": "3040685c",
   "metadata": {},
   "outputs": [],
   "source": [
    "Embeddings = HuggingFaceEmbeddings(model_name=\"sentence-transformers/all-MiniLM-L6-v2\",\n",
    "                            model_kwargs={'device': 'mps'})"
   ]
  },
  {
   "cell_type": "code",
   "execution_count": 32,
   "id": "0f74381c",
   "metadata": {},
   "outputs": [],
   "source": [
    "REVIEWS_CSV_PATH = \"data/reviews.csv\"\n",
    "REVIEWS_CHROMA_PATH = \"chroma_data\"\n",
    "\n",
    "dotenv.load_dotenv()\n",
    "\n",
    "loader = DataFrameLoader(data_df, page_content_column=\"description\")\n",
    "descriptions = loader.load()\n",
    "\n",
    "reviews_vector_db = Chroma.from_documents(\n",
    "    descriptions, Embeddings, persist_directory=REVIEWS_CHROMA_PATH\n",
    ")"
   ]
  },
  {
   "cell_type": "code",
   "execution_count": 137,
   "id": "44b5bace",
   "metadata": {},
   "outputs": [],
   "source": [
    "question = \"\"\"\n",
    "movie talking about romantic love story between couple fighting to live together\n",
    "\"\"\"\n",
    "\n",
    "relevant_docs = reviews_vector_db.similarity_search(question, k=3)"
   ]
  },
  {
   "cell_type": "code",
   "execution_count": 138,
   "id": "5328ac1d",
   "metadata": {},
   "outputs": [
    {
     "name": "stdout",
     "output_type": "stream",
     "text": [
      "Most Suggested Movie:\n",
      "\n",
      "Movie Name:  All Good Ones Get Away\n",
      "\n",
      "Movie Description:  When a mysterious figure blackmails an adulterous couple during a romantic getaway, their secret affair turns into a fight for survival.\n",
      "\n",
      "\n",
      "Least Suggested Movie:\n",
      "\n",
      "Movie Name:  All About Love\n",
      "\n",
      "Movie Description:  An inseparable couple struggles to stay together when betrayal threatens to tear their lives apart.\n"
     ]
    }
   ],
   "source": [
    "print(\"Most Suggested Movie:\")\n",
    "print()\n",
    "title = relevant_docs[0].metadata[\"title\"]\n",
    "print(\"Movie Name: \", data_df[data_df[\"title\"] == title][\"title\"].iloc[0])\n",
    "print()\n",
    "print(\"Movie Description: \", data_df[data_df[\"title\"] == title][\"description\"].iloc[0])\n",
    "\n",
    "print()\n",
    "print()\n",
    "\n",
    "print(\"Least Suggested Movie:\")\n",
    "print()\n",
    "title = relevant_docs[-1].metadata[\"title\"]\n",
    "print(\"Movie Name: \", data_df[data_df[\"title\"] == title][\"title\"].iloc[0])\n",
    "print()\n",
    "print(\"Movie Description: \", data_df[data_df[\"title\"] == title][\"description\"].iloc[0])"
   ]
  },
  {
   "cell_type": "code",
   "execution_count": null,
   "id": "0cf0215b",
   "metadata": {},
   "outputs": [],
   "source": [
    "reviews_vector_db = Chroma(persist_directory=REVIEWS_CHROMA_PATH, embedding_function=Embeddings)"
   ]
  },
  {
   "cell_type": "code",
   "execution_count": 1,
   "id": "da4c06d5",
   "metadata": {},
   "outputs": [],
   "source": [
    "from movies import movie_rag\n",
    "\n",
    "movie_obj = movie_rag(REVIEWS_CHROMA_PATH = 'chroma_data', device='mps')"
   ]
  },
  {
   "cell_type": "code",
   "execution_count": 4,
   "id": "b02dee71",
   "metadata": {},
   "outputs": [],
   "source": [
    "vector_db = movie_obj.load_vector_database()\n",
    "\n",
    "movies = movie_obj.get_movie(\"romantic love story between couple fighting to live together\",  vector_db)"
   ]
  },
  {
   "cell_type": "code",
   "execution_count": 8,
   "id": "5e134684",
   "metadata": {},
   "outputs": [
    {
     "name": "stdout",
     "output_type": "stream",
     "text": [
      "Irada Pakka\n",
      "\n",
      "Bored in their happy marriage, a couple decides to spice things up by fighting more, but their game takes the relationship on an unexpected path.\n"
     ]
    }
   ],
   "source": [
    "print(movies[0].metadata[\"title\"])\n",
    "print()\n",
    "print(movies[0].page_content)"
   ]
  },
  {
   "cell_type": "code",
   "execution_count": null,
   "id": "41f60b71",
   "metadata": {},
   "outputs": [],
   "source": []
  }
 ],
 "metadata": {
  "kernelspec": {
   "display_name": "Python 3 (ipykernel)",
   "language": "python",
   "name": "python3"
  },
  "language_info": {
   "codemirror_mode": {
    "name": "ipython",
    "version": 3
   },
   "file_extension": ".py",
   "mimetype": "text/x-python",
   "name": "python",
   "nbconvert_exporter": "python",
   "pygments_lexer": "ipython3",
   "version": "3.10.8"
  }
 },
 "nbformat": 4,
 "nbformat_minor": 5
}
